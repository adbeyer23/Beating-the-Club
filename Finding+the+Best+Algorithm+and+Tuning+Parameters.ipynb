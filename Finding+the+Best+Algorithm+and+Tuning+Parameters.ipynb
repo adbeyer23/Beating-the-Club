{
 "cells": [
  {
   "cell_type": "markdown",
   "metadata": {},
   "source": [
    "In this notebook I will be finding the best algorithm and parameters to predict whether or not people will pay off their loans. Orginially, I tested about 15-20 models through grid search, with a variety of attributes--balanced vs. unbalanced target variables, data normalization etc. Here I will only show a snippet of that code."
   ]
  },
  {
   "cell_type": "markdown",
   "metadata": {},
   "source": [
    "Keep in mind, the goal of this project was not to get the highest accuracy, but to get the highest precision on correctly predicting a loan will be paid off. To get the highest precision possible, I sacrificed a lot of good loans to ensure the loans the algorithm claimed would be paid off were almost certainly paid off."
   ]
  },
  {
   "cell_type": "markdown",
   "metadata": {},
   "source": [
    "The reason I did this, is because I was making this algorithm to be used by a hypothetical everday person (compared to a big bank) who would be very sensitive to losses."
   ]
  },
  {
   "cell_type": "code",
   "execution_count": 100,
   "metadata": {
    "collapsed": true
   },
   "outputs": [],
   "source": [
    "import pandas as pd\n",
    "import pandas as pd\n",
    "%matplotlib inline\n",
    "import seaborn as sns\n",
    "import matplotlib.pyplot as plt\n",
    "from sklearn.metrics import classification_report\n",
    "import re\n",
    "from sklearn.linear_model import LogisticRegression, LogisticRegressionCV\n",
    "from sklearn.neighbors import KNeighborsClassifier\n",
    "from sklearn.neural_network import MLPClassifier\n",
    "from sklearn.tree import DecisionTreeClassifier\n",
    "from sklearn.ensemble import GradientBoostingClassifier, AdaBoostClassifier\n",
    "from sklearn.naive_bayes import GaussianNB\n",
    "from sklearn.ensemble import RandomForestClassifier\n",
    "from sklearn.preprocessing import  Normalizer, normalize\n",
    "from sklearn.model_selection import train_test_split\n",
    "from sklearn.svm import LinearSVC\n",
    "import numpy as np\n",
    "from sklearn.pipeline import make_pipeline\n",
    "from sklearn.pipeline import Pipeline\n",
    "from sklearn.pipeline import FeatureUnion\n",
    "from sklearn.feature_selection import SelectKBest, f_classif\n",
    "from sklearn.decomposition import PCA\n",
    "from sklearn.model_selection import GridSearchCV\n",
    "from sklearn.metrics import precision_recall_curve,make_scorer, precision_score, average_precision_score,precision_recall_fscore_support, accuracy_score"
   ]
  },
  {
   "cell_type": "code",
   "execution_count": 5,
   "metadata": {
    "collapsed": true
   },
   "outputs": [],
   "source": [
    "loan_features = pd.read_pickle(\"loans_features.pkl\")"
   ]
  },
  {
   "cell_type": "code",
   "execution_count": 10,
   "metadata": {
    "collapsed": true
   },
   "outputs": [],
   "source": [
    "loan_target = pd.read_pickle(\"loans_target.pkl\")"
   ]
  },
  {
   "cell_type": "markdown",
   "metadata": {},
   "source": [
    "I created the below function so I could try fitting models with different variations of the data. I will show some examples of it's use. However, the best results were obtained with normalization and a resample_split of 1 (meaning, in the training set, the ratio of paid off to charged of loans was around 1:1."
   ]
  },
  {
   "cell_type": "code",
   "execution_count": 13,
   "metadata": {
    "collapsed": true
   },
   "outputs": [],
   "source": [
    "def sample_split(X, Y, test_size=.3, Normalize=\"Yes\" ,resample_split=.9):\n",
    "    \"\"\"Resample split determines how balanced the classes should be. Resample split of 1 would be 50/50. Splits below\n",
    "    one would mean more fully paid data than charged off data. Essentially, the purpose of resample split is to\n",
    "    downsample the majority class (Fully Paid).\"\"\"\n",
    "    if Normalize == \"Yes\":\n",
    "        X = pd.DataFrame(normalize(X, axis= 0, norm=\"max\"))\n",
    "    x_train, x_test, y_train, y_test = train_test_split(X, Y, test_size= test_size )\n",
    "    if resample_split:\n",
    "        combined = x_train\n",
    "        combined['y_variable'] = y_train.values\n",
    "        \n",
    "        sample_amount = int(len(combined[combined.y_variable == \"Charged Off\"])*resample_split)\n",
    "        fully_resample = combined[combined.y_variable == \"Fully Paid\"].sample(sample_amount)\n",
    "        combined_fix = pd.concat([combined[combined.y_variable == \"Charged Off\"], fully_resample])\n",
    "        x_train = combined_fix.drop('y_variable', 1)\n",
    "        y_train = combined_fix['y_variable']\n",
    "    return x_train, x_test, y_train, y_test\n",
    "    "
   ]
  },
  {
   "cell_type": "code",
   "execution_count": 26,
   "metadata": {
    "collapsed": true
   },
   "outputs": [],
   "source": [
    "#what do the results looks like if we don't balance the classes in the training set?\n",
    "x_train_unb, x_test_unb, y_train_unb, y_test_unb= sample_split(loan_features, loan_target,test_size= .20,resample_split=None, Normalize=\"Yes\")\n"
   ]
  },
  {
   "cell_type": "code",
   "execution_count": 49,
   "metadata": {
    "collapsed": true
   },
   "outputs": [],
   "source": [
    "#Regular SVC will take a very long time to run\n",
    "SVC = LinearSVC()\n",
    "PS = make_scorer(precision_score, pos_label=\"Fully Paid\")\n",
    "parameters = {\"C\": [10,15,30,50,100], \"dual\": [False], \"penalty\":[\"l1\"], \"loss\":[\"squared_hinge\"] }\n",
    "LinearSVC_l1_unb = GridSearchCV(SVC, parameters, scoring=PS)"
   ]
  },
  {
   "cell_type": "code",
   "execution_count": 50,
   "metadata": {},
   "outputs": [
    {
     "data": {
      "text/plain": [
       "0.81993861993861994"
      ]
     },
     "execution_count": 50,
     "metadata": {},
     "output_type": "execute_result"
    }
   ],
   "source": [
    "LinearSVC_l1_unb.fit(x_train_unb, y_train_unb)\n",
    "LinearSVC_l1_unb.score(x_test_unb, y_test_unb)\n",
    "#score is precision score"
   ]
  },
  {
   "cell_type": "code",
   "execution_count": 51,
   "metadata": {},
   "outputs": [
    {
     "name": "stdout",
     "output_type": "stream",
     "text": [
      "             precision    recall  f1-score   support\n",
      "\n",
      "Charged Off       0.59      0.01      0.01      9147\n",
      " Fully Paid       0.82      1.00      0.90     41448\n",
      "\n",
      "avg / total       0.78      0.82      0.74     50595\n",
      "\n"
     ]
    }
   ],
   "source": [
    "print(classification_report(y_test_unb, LinearSVC_l1_unb.predict(x_test_unb)))"
   ]
  },
  {
   "cell_type": "code",
   "execution_count": 52,
   "metadata": {},
   "outputs": [
    {
     "data": {
      "text/plain": [
       "0.81952762130645318"
      ]
     },
     "execution_count": 52,
     "metadata": {},
     "output_type": "execute_result"
    }
   ],
   "source": [
    "accuracy_score(y_test_unb, LinearSVC_l1_unb.predict(x_test_unb))"
   ]
  },
  {
   "cell_type": "markdown",
   "metadata": {},
   "source": [
    "With unbalanced classes, we get a pretty good accuracy...but that accuracy would be the same if we just picked \"Fully Paid\" for all loans. Precision here is no better than chance...we can do better."
   ]
  },
  {
   "cell_type": "code",
   "execution_count": 38,
   "metadata": {},
   "outputs": [
    {
     "data": {
      "text/plain": [
       "0.22087162763118887"
      ]
     },
     "execution_count": 38,
     "metadata": {},
     "output_type": "execute_result"
    }
   ],
   "source": [
    "nb_unb = GaussianNB()\n",
    "nb_unb.fit(x_train_unb, y_train_unb)\n",
    "nb_unb.score(x_test_unb,y_test_unb)\n",
    "#score is accuracy score"
   ]
  },
  {
   "cell_type": "code",
   "execution_count": 44,
   "metadata": {},
   "outputs": [
    {
     "name": "stdout",
     "output_type": "stream",
     "text": [
      "             precision    recall  f1-score   support\n",
      "\n",
      "Charged Off       0.18      0.97      0.31      9147\n",
      " Fully Paid       0.88      0.06      0.11     41448\n",
      "\n",
      "avg / total       0.76      0.22      0.14     50595\n",
      "\n"
     ]
    }
   ],
   "source": [
    "print(classification_report(y_test_unb, nb_unb.predict(x_test_unb)))"
   ]
  },
  {
   "cell_type": "markdown",
   "metadata": {},
   "source": [
    "Naive bayes does better precision wise, but at the huge cost of accuracy and recall...too much of a hit...let's keep trying."
   ]
  },
  {
   "cell_type": "code",
   "execution_count": 54,
   "metadata": {
    "collapsed": true
   },
   "outputs": [],
   "source": [
    "#Logistic Regression and LinearSVC has a class_weight: balanced parameter..Let's see how well that works:\n",
    "Lor= LogisticRegression()\n",
    "parameters = {\"class_weight\": [None, \"balanced\"], \"C\": [3,5,9], \"solver\": [\"sag\"], \"max_iter\":[300] }\n",
    "PS = make_scorer(precision_score, pos_label=\"Fully Paid\")\n",
    "LR_unb = GridSearchCV(Lor, parameters, scoring=PS)"
   ]
  },
  {
   "cell_type": "code",
   "execution_count": 55,
   "metadata": {},
   "outputs": [
    {
     "name": "stderr",
     "output_type": "stream",
     "text": [
      "/usr/local/anaconda3/lib/python3.6/site-packages/sklearn/linear_model/sag.py:286: ConvergenceWarning: The max_iter was reached which means the coef_ did not converge\n",
      "  \"the coef_ did not converge\", ConvergenceWarning)\n",
      "/usr/local/anaconda3/lib/python3.6/site-packages/sklearn/linear_model/sag.py:286: ConvergenceWarning: The max_iter was reached which means the coef_ did not converge\n",
      "  \"the coef_ did not converge\", ConvergenceWarning)\n",
      "/usr/local/anaconda3/lib/python3.6/site-packages/sklearn/linear_model/sag.py:286: ConvergenceWarning: The max_iter was reached which means the coef_ did not converge\n",
      "  \"the coef_ did not converge\", ConvergenceWarning)\n",
      "/usr/local/anaconda3/lib/python3.6/site-packages/sklearn/linear_model/sag.py:286: ConvergenceWarning: The max_iter was reached which means the coef_ did not converge\n",
      "  \"the coef_ did not converge\", ConvergenceWarning)\n",
      "/usr/local/anaconda3/lib/python3.6/site-packages/sklearn/linear_model/sag.py:286: ConvergenceWarning: The max_iter was reached which means the coef_ did not converge\n",
      "  \"the coef_ did not converge\", ConvergenceWarning)\n",
      "/usr/local/anaconda3/lib/python3.6/site-packages/sklearn/linear_model/sag.py:286: ConvergenceWarning: The max_iter was reached which means the coef_ did not converge\n",
      "  \"the coef_ did not converge\", ConvergenceWarning)\n"
     ]
    },
    {
     "data": {
      "text/plain": [
       "0.89736769379577175"
      ]
     },
     "execution_count": 55,
     "metadata": {},
     "output_type": "execute_result"
    }
   ],
   "source": [
    "LR_unb.fit(x_train_unb, y_train_unb)\n",
    "LR_unb.score(x_test_unb,y_test_unb)\n"
   ]
  },
  {
   "cell_type": "code",
   "execution_count": 59,
   "metadata": {},
   "outputs": [
    {
     "data": {
      "text/plain": [
       "0.63549757881213553"
      ]
     },
     "execution_count": 59,
     "metadata": {},
     "output_type": "execute_result"
    }
   ],
   "source": [
    "accuracy_score(y_test_unb, LR_unb.predict(x_test_unb))"
   ]
  },
  {
   "cell_type": "code",
   "execution_count": 60,
   "metadata": {},
   "outputs": [
    {
     "data": {
      "text/plain": [
       "LogisticRegression(C=5, class_weight='balanced', dual=False,\n",
       "          fit_intercept=True, intercept_scaling=1, max_iter=300,\n",
       "          multi_class='ovr', n_jobs=1, penalty='l2', random_state=None,\n",
       "          solver='sag', tol=0.0001, verbose=0, warm_start=False)"
      ]
     },
     "execution_count": 60,
     "metadata": {},
     "output_type": "execute_result"
    }
   ],
   "source": [
    "LR_unb.best_estimator_\n",
    "#unsuprisingly Gridsearch selected the \"balanced\" class_weight as being better than no class weight"
   ]
  },
  {
   "cell_type": "code",
   "execution_count": 61,
   "metadata": {},
   "outputs": [
    {
     "name": "stdout",
     "output_type": "stream",
     "text": [
      "             precision    recall  f1-score   support\n",
      "\n",
      "Charged Off       0.29      0.68      0.40      9147\n",
      " Fully Paid       0.90      0.63      0.74     41448\n",
      "\n",
      "avg / total       0.79      0.64      0.68     50595\n",
      "\n"
     ]
    }
   ],
   "source": [
    "print(classification_report(y_test_unb, LR_unb.predict(x_test_unb)))"
   ]
  },
  {
   "cell_type": "markdown",
   "metadata": {},
   "source": [
    "Some algorithms can't natively balance the classes so we need to do that ourselves."
   ]
  },
  {
   "cell_type": "code",
   "execution_count": null,
   "metadata": {
    "collapsed": true
   },
   "outputs": [],
   "source": [
    "x_train, x_test, y_train, y_test= sample_split(loan_features, loan_target,test_size= .20,resample_split=1, Normalize=\"Yes\")\n"
   ]
  },
  {
   "cell_type": "code",
   "execution_count": 18,
   "metadata": {},
   "outputs": [
    {
     "data": {
      "text/plain": [
       "Fully Paid     36102\n",
       "Charged Off    36102\n",
       "Name: y_variable, dtype: int64"
      ]
     },
     "execution_count": 18,
     "metadata": {},
     "output_type": "execute_result"
    }
   ],
   "source": [
    "#balanced classes\n",
    "y_train.value_counts()"
   ]
  },
  {
   "cell_type": "code",
   "execution_count": 20,
   "metadata": {},
   "outputs": [
    {
     "data": {
      "text/plain": [
       "Fully Paid     41449\n",
       "Charged Off     9146\n",
       "Name: loan_status, dtype: int64"
      ]
     },
     "execution_count": 20,
     "metadata": {},
     "output_type": "execute_result"
    }
   ],
   "source": [
    "#actual distribution in real life (I want the model to be able to predict on this unbalanced distribution)\n",
    "y_test.value_counts()"
   ]
  },
  {
   "cell_type": "code",
   "execution_count": 22,
   "metadata": {
    "collapsed": true
   },
   "outputs": [],
   "source": [
    "SVC = LinearSVC()\n",
    "PS = make_scorer(precision_score, pos_label=\"Fully Paid\")\n",
    "parameters = {\"C\": [10,15,30,50,100], \"class_weight\": [\"balanced\"], \"dual\": [False], \"penalty\":[\"l1\"], \"loss\":[\"squared_hinge\"] }\n",
    "LinearSVC_l1 = GridSearchCV(SVC, parameters, scoring=PS)"
   ]
  },
  {
   "cell_type": "code",
   "execution_count": 23,
   "metadata": {},
   "outputs": [
    {
     "data": {
      "text/plain": [
       "0.89318151009895619"
      ]
     },
     "execution_count": 23,
     "metadata": {},
     "output_type": "execute_result"
    }
   ],
   "source": [
    "LinearSVC_l1.fit(x_train, y_train)\n",
    "LinearSVC_l1.score(x_test, y_test)\n",
    "#score is precision score"
   ]
  },
  {
   "cell_type": "code",
   "execution_count": 25,
   "metadata": {},
   "outputs": [
    {
     "name": "stdout",
     "output_type": "stream",
     "text": [
      "             precision    recall  f1-score   support\n",
      "\n",
      "Charged Off       0.28      0.66      0.40      9146\n",
      " Fully Paid       0.89      0.64      0.74     41449\n",
      "\n",
      "avg / total       0.78      0.64      0.68     50595\n",
      "\n"
     ]
    }
   ],
   "source": [
    "print(classification_report(y_test, LinearSVC_l1.predict(x_test)))"
   ]
  },
  {
   "cell_type": "code",
   "execution_count": 33,
   "metadata": {},
   "outputs": [
    {
     "data": {
      "text/plain": [
       "0.63939124419409032"
      ]
     },
     "execution_count": 33,
     "metadata": {},
     "output_type": "execute_result"
    }
   ],
   "source": [
    "accuracy_score(y_test, LinearSVC_l1.predict(x_test))"
   ]
  },
  {
   "cell_type": "code",
   "execution_count": 45,
   "metadata": {},
   "outputs": [
    {
     "data": {
      "text/plain": [
       "0.23338274533056627"
      ]
     },
     "execution_count": 45,
     "metadata": {},
     "output_type": "execute_result"
    }
   ],
   "source": [
    "nb = GaussianNB()\n",
    "nb.fit(x_train, y_train)\n",
    "nb.score(x_test,y_test)"
   ]
  },
  {
   "cell_type": "code",
   "execution_count": 46,
   "metadata": {},
   "outputs": [
    {
     "name": "stdout",
     "output_type": "stream",
     "text": [
      "             precision    recall  f1-score   support\n",
      "\n",
      "Charged Off       0.18      0.97      0.31      9146\n",
      " Fully Paid       0.89      0.06      0.11     41449\n",
      "\n",
      "avg / total       0.76      0.22      0.14     50595\n",
      "\n"
     ]
    }
   ],
   "source": [
    "print(classification_report(y_test, nb_unb.predict(x_test)))"
   ]
  },
  {
   "cell_type": "markdown",
   "metadata": {},
   "source": [
    "Naive Bayes does fairly poorly, accuracy-wise, independent if classes are balanced or not. It has high precision for fully paid class, but at a huge cost of recall (meaning it is selecting only a small percentage of loans that are fully paid, but the ones it does select are almost all True positives)."
   ]
  },
  {
   "cell_type": "code",
   "execution_count": 72,
   "metadata": {
    "collapsed": true
   },
   "outputs": [],
   "source": [
    "GBC = GradientBoostingClassifier()\n",
    "PS = make_scorer(precision_score, pos_label=\"Fully Paid\")\n",
    "parameters = {\"learning_rate\": [.01], \"n_estimators\": [300], \"max_depth\":[3,7], \"subsample\":[1], \"min_samples_leaf\":[6,7], \"max_features\": [\"sqrt\"] }\n",
    "GB = GridSearchCV(GBC, parameters, scoring=PS)"
   ]
  },
  {
   "cell_type": "code",
   "execution_count": 73,
   "metadata": {},
   "outputs": [
    {
     "data": {
      "text/plain": [
       "0.89465280608778364"
      ]
     },
     "execution_count": 73,
     "metadata": {},
     "output_type": "execute_result"
    }
   ],
   "source": [
    "GB.fit(x_train, y_train)\n",
    "GB.score(x_test, y_test)"
   ]
  },
  {
   "cell_type": "code",
   "execution_count": 74,
   "metadata": {},
   "outputs": [
    {
     "data": {
      "text/plain": [
       "0.63998418816088543"
      ]
     },
     "execution_count": 74,
     "metadata": {},
     "output_type": "execute_result"
    }
   ],
   "source": [
    "accuracy_score(y_test, GB.predict(x_test))"
   ]
  },
  {
   "cell_type": "code",
   "execution_count": 75,
   "metadata": {},
   "outputs": [
    {
     "name": "stdout",
     "output_type": "stream",
     "text": [
      "             precision    recall  f1-score   support\n",
      "\n",
      "Charged Off       0.29      0.66      0.40      9146\n",
      " Fully Paid       0.89      0.64      0.74     41449\n",
      "\n",
      "avg / total       0.78      0.64      0.68     50595\n",
      "\n"
     ]
    }
   ],
   "source": [
    "print(classification_report(y_test, GB.predict(x_test)))"
   ]
  },
  {
   "cell_type": "code",
   "execution_count": 102,
   "metadata": {
    "collapsed": true
   },
   "outputs": [],
   "source": [
    "ABC = AdaBoostClassifier()\n",
    "PS = make_scorer(precision_score, pos_label=\"Fully Paid\")\n",
    "parameters = {\"n_estimators\": [100,200], \"learning_rate\": [1, 2]}\n",
    "ABCGS = GridSearchCV(ABC, parameters, scoring=PS)"
   ]
  },
  {
   "cell_type": "code",
   "execution_count": 107,
   "metadata": {},
   "outputs": [
    {
     "data": {
      "text/plain": [
       "GridSearchCV(cv=None, error_score='raise',\n",
       "       estimator=AdaBoostClassifier(algorithm='SAMME.R', base_estimator=None,\n",
       "          learning_rate=1.0, n_estimators=50, random_state=None),\n",
       "       fit_params={}, iid=True, n_jobs=1,\n",
       "       param_grid={'n_estimators': [100, 200], 'learning_rate': [1, 2]},\n",
       "       pre_dispatch='2*n_jobs', refit=True, return_train_score=True,\n",
       "       scoring=make_scorer(precision_score, pos_label=Fully Paid),\n",
       "       verbose=0)"
      ]
     },
     "execution_count": 107,
     "metadata": {},
     "output_type": "execute_result"
    }
   ],
   "source": [
    "ABCGS.fit(x_train, y_train)"
   ]
  },
  {
   "cell_type": "code",
   "execution_count": 112,
   "metadata": {},
   "outputs": [
    {
     "data": {
      "text/plain": [
       "0.89556630254658598"
      ]
     },
     "execution_count": 112,
     "metadata": {},
     "output_type": "execute_result"
    }
   ],
   "source": [
    "ABCGS.score(x_test, y_test)"
   ]
  },
  {
   "cell_type": "code",
   "execution_count": 110,
   "metadata": {},
   "outputs": [
    {
     "data": {
      "text/plain": [
       "AdaBoostClassifier(algorithm='SAMME.R', base_estimator=None, learning_rate=1,\n",
       "          n_estimators=200, random_state=None)"
      ]
     },
     "execution_count": 110,
     "metadata": {},
     "output_type": "execute_result"
    }
   ],
   "source": [
    "ABCGS.best_estimator_"
   ]
  },
  {
   "cell_type": "code",
   "execution_count": 111,
   "metadata": {},
   "outputs": [
    {
     "name": "stdout",
     "output_type": "stream",
     "text": [
      "             precision    recall  f1-score   support\n",
      "\n",
      "Charged Off       0.29      0.66      0.40      9146\n",
      " Fully Paid       0.90      0.64      0.75     41449\n",
      "\n",
      "avg / total       0.79      0.64      0.68     50595\n",
      "\n"
     ]
    }
   ],
   "source": [
    "print(classification_report(y_test, ABCGS.predict(x_test)))"
   ]
  },
  {
   "cell_type": "markdown",
   "metadata": {},
   "source": [
    "All of these algorithms give roughly the same results (with the exception of Naive Bayes). Let's take a look at the Gradient Boosted Trees one and see what the most important features were."
   ]
  },
  {
   "cell_type": "code",
   "execution_count": 77,
   "metadata": {},
   "outputs": [
    {
     "data": {
      "text/plain": [
       "GradientBoostingClassifier(criterion='friedman_mse', init=None,\n",
       "              learning_rate=0.01, loss='deviance', max_depth=7,\n",
       "              max_features='sqrt', max_leaf_nodes=None,\n",
       "              min_impurity_split=1e-07, min_samples_leaf=7,\n",
       "              min_samples_split=2, min_weight_fraction_leaf=0.0,\n",
       "              n_estimators=300, presort='auto', random_state=None,\n",
       "              subsample=1, verbose=0, warm_start=False)"
      ]
     },
     "execution_count": 77,
     "metadata": {},
     "output_type": "execute_result"
    }
   ],
   "source": [
    "GB.best_estimator_"
   ]
  },
  {
   "cell_type": "code",
   "execution_count": 78,
   "metadata": {},
   "outputs": [
    {
     "data": {
      "text/plain": [
       "GradientBoostingClassifier(criterion='friedman_mse', init=None,\n",
       "              learning_rate=0.01, loss='deviance', max_depth=7,\n",
       "              max_features='sqrt', max_leaf_nodes=None,\n",
       "              min_impurity_split=1e-07, min_samples_leaf=7,\n",
       "              min_samples_split=2, min_weight_fraction_leaf=0.0,\n",
       "              n_estimators=300, presort='auto', random_state=None,\n",
       "              subsample=1, verbose=0, warm_start=False)"
      ]
     },
     "execution_count": 78,
     "metadata": {},
     "output_type": "execute_result"
    }
   ],
   "source": [
    "#GridSearch does not all us to grab the best features. So we have to run Gradient Boost by itself with the best\n",
    "#parameters to grab them\n",
    "\n",
    "GB = GradientBoostingClassifier(criterion='friedman_mse', init=None,\n",
    "              learning_rate=0.01, loss='deviance', max_depth=7,\n",
    "              max_features='sqrt', max_leaf_nodes=None,\n",
    "              min_impurity_split=1e-07, min_samples_leaf=7,\n",
    "              min_samples_split=2, min_weight_fraction_leaf=0.0,\n",
    "              n_estimators=300, presort='auto', random_state=None,\n",
    "              subsample=1, verbose=0, warm_start=False)\n",
    "GB.fit(x_train, y_train)"
   ]
  },
  {
   "cell_type": "code",
   "execution_count": 79,
   "metadata": {
    "collapsed": true
   },
   "outputs": [],
   "source": [
    "tuples = []\n",
    "for x,y in zip(GB.feature_importances_, loan_features):\n",
    "    tuples.append([x,y])\n",
    "tuples = sorted(tuples, key= lambda x: abs(x[0]), reverse=True)"
   ]
  },
  {
   "cell_type": "code",
   "execution_count": 81,
   "metadata": {},
   "outputs": [
    {
     "data": {
      "text/plain": [
       "[[0.19473353620969852, 'int_rate'],\n",
       " [0.11344683116829837, 'annual_inc'],\n",
       " [0.086323955599068039, 'dti'],\n",
       " [0.078222069340860151, 'A'],\n",
       " [0.049524937258668661, 'revol_util']]"
      ]
     },
     "execution_count": 81,
     "metadata": {},
     "output_type": "execute_result"
    }
   ],
   "source": [
    "tuples[0:5]"
   ]
  },
  {
   "cell_type": "code",
   "execution_count": 85,
   "metadata": {
    "collapsed": true
   },
   "outputs": [],
   "source": [
    "#renaming the best features so they are easier to understand\n",
    "tuples[0][1] = \"Interest Rate\"\n",
    "tuples[1][1] = \"Annual Income\"\n",
    "tuples[2][1] = \"Loan Amount\"\n",
    "tuples[3][1] = \"Revolving Utilization\"\n",
    "tuples[4][1] = \"Debt to Income\"\n",
    "tuples[5][1] = \"Total Credit Accounts\"\n",
    "tuples[6][1] = \"Revolving Balance\"\n",
    "tuples[7][1] = \"Small Business\"\n",
    "tuples[8][1] = \"Inquiry Last 6 months\"\n",
    "tuples[9][1] = \"Length of Credit History\"\n",
    "tuples[10][1] = \"Renting Home\"\n"
   ]
  },
  {
   "cell_type": "code",
   "execution_count": 86,
   "metadata": {
    "collapsed": true
   },
   "outputs": [],
   "source": [
    "#making it easier to plot\n",
    "A = [x for x,y in tuples]\n",
    "B = [y for x,y in tuples]"
   ]
  },
  {
   "cell_type": "code",
   "execution_count": 87,
   "metadata": {},
   "outputs": [
    {
     "data": {
      "text/plain": [
       "<matplotlib.text.Text at 0x7fe9688705f8>"
      ]
     },
     "execution_count": 87,
     "metadata": {},
     "output_type": "execute_result"
    },
    {
     "data": {
      "image/png": "[encoded data removed]",
      "text/plain": [
       "<matplotlib.figure.Figure at 0x7fe968906390>"
      ]
     },
     "metadata": {},
     "output_type": "display_data"
    }
   ],
   "source": [
    "sns.barplot(A[:10], B[:10])\n",
    "plt.title(\"Gini Importance (Gradient Boosting)\")"
   ]
  },
  {
   "cell_type": "markdown",
   "metadata": {
    "collapsed": true
   },
   "source": [
    "Unsuprisingly interest rate, a proxy for loan grade/risk, was the most important feature. Annual Income and loan amount were also really important...which makes  sense."
   ]
  },
  {
   "cell_type": "markdown",
   "metadata": {},
   "source": [
    "Let's look at a precision recall curve for some of these algorithms:"
   ]
  },
  {
   "cell_type": "code",
   "execution_count": 95,
   "metadata": {
    "collapsed": true
   },
   "outputs": [],
   "source": [
    "precision, recall, _ = precision_recall_curve(y_test, GB.predict_proba(x_test)[:,1], pos_label=\"Fully Paid\")"
   ]
  },
  {
   "cell_type": "code",
   "execution_count": 94,
   "metadata": {
    "collapsed": true
   },
   "outputs": [],
   "source": [
    "precision1, recall1, _ = precision_recall_curve(y_test_unb, LR_unb.predict_proba(x_test_unb)[:,1], pos_label=\"Fully Paid\")"
   ]
  },
  {
   "cell_type": "code",
   "execution_count": 115,
   "metadata": {
    "collapsed": true
   },
   "outputs": [],
   "source": [
    "precision2, recall2, _ = precision_recall_curve(y_test, ABCGS.predict_proba(x_test)[:,1], pos_label=\"Fully Paid\")"
   ]
  },
  {
   "cell_type": "code",
   "execution_count": 116,
   "metadata": {
    "scrolled": true
   },
   "outputs": [
    {
     "data": {
      "text/plain": [
       "<matplotlib.text.Text at 0x7fe9684922e8>"
      ]
     },
     "execution_count": 116,
     "metadata": {},
     "output_type": "execute_result"
    },
    {
     "data": {
      "image/png": "[encoded data removed]",
      "text/plain": [
       "<matplotlib.figure.Figure at 0x7fe968785eb8>"
      ]
     },
     "metadata": {},
     "output_type": "display_data"
    }
   ],
   "source": [
    "sns.set_context(\"talk\")\n",
    "\n",
    "plt.style.use('ggplot')\n",
    "plt.plot(recall, precision, label=\"Gradient Boost\")\n",
    "plt.plot(recall1, precision1, label=\"Linear Regression\")\n",
    "plt.plot(recall2, precision2, label=\"ADA BOOST\")\n",
    "\n",
    "\n",
    "\n",
    "plt.xlabel('Recall', size=25)\n",
    "plt.ylabel('Precision', size=25)\n",
    "plt.legend(fontsize=15)\n",
    "plt.title(\"Precision-Recall Curve\", size=25)\n",
    "#not sure what is causing that blip in linear regression at the beginning. It is worth examining more."
   ]
  },
  {
   "cell_type": "markdown",
   "metadata": {},
   "source": [
    "Again, all are preforming roughly similar. It may be feasible, if anyone were to actually use this algorithm, and were really sensitive to loses, to increase the probability threshold from .5 to like .7. Pushing the precision to .95-.97 (but at a huge cost of recall, which is fine if you are only investing in a limited amount of loans)."
   ]
  }
 ],
 "metadata": {
  "kernelspec": {
   "display_name": "Python 3",
   "language": "python",
   "name": "python3"
  },
  "language_info": {
   "codemirror_mode": {
    "name": "ipython",
    "version": 3
   },
   "file_extension": ".py",
   "mimetype": "text/x-python",
   "name": "python",
   "nbconvert_exporter": "python",
   "pygments_lexer": "ipython3",
   "version": "3.6.1"
  }
 },
 "nbformat": 4,
 "nbformat_minor": 2
}
